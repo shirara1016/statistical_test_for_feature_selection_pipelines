{
 "cells": [
  {
   "cell_type": "code",
   "execution_count": 1,
   "metadata": {},
   "outputs": [],
   "source": [
    "# import packages\n",
    "import numpy as np\n",
    "from si4automl import (\n",
    "    construct_pipelines,\n",
    "    cook_distance,\n",
    "    definite_regression_imputation,\n",
    "    extract_features,\n",
    "    initialize_dataset,\n",
    "    intersection,\n",
    "    lasso,\n",
    "    marginal_screening,\n",
    "    mean_value_imputation,\n",
    "    remove_outliers,\n",
    "    soft_ipod,\n",
    "    stepwise_feature_selection,\n",
    "    union,\n",
    "    PipelineManager,\n",
    ")\n"
   ]
  },
  {
   "cell_type": "code",
   "execution_count": 2,
   "metadata": {},
   "outputs": [],
   "source": [
    "# define the pipeline manager with only one pipeline\n",
    "\n",
    "def option1() -> PipelineManager:\n",
    "    X, y = initialize_dataset()\n",
    "    y = mean_value_imputation(X, y)\n",
    "\n",
    "    O = soft_ipod(X, y, 0.02)\n",
    "    X, y = remove_outliers(X, y, O)\n",
    "\n",
    "    M = marginal_screening(X, y, 5)\n",
    "    X = extract_features(X, M)\n",
    "\n",
    "    M1 = stepwise_feature_selection(X, y, 3)\n",
    "    M2 = lasso(X, y, 0.08)\n",
    "    M = union(M1, M2)\n",
    "    return construct_pipelines(output=M)\n",
    "\n",
    "\n",
    "def option2() -> PipelineManager:\n",
    "    X, y = initialize_dataset()\n",
    "    y = definite_regression_imputation(X, y)\n",
    "\n",
    "    M = marginal_screening(X, y, 5)\n",
    "    X = extract_features(X, M)\n",
    "\n",
    "    O = cook_distance(X, y, 3.0)\n",
    "    X, y = remove_outliers(X, y, O)\n",
    "\n",
    "    M1 = stepwise_feature_selection(X, y, 3)\n",
    "    M2 = lasso(X, y, 0.08)\n",
    "    M = intersection(M1, M2)\n",
    "    return construct_pipelines(output=M)\n"
   ]
  },
  {
   "cell_type": "code",
   "execution_count": 3,
   "metadata": {},
   "outputs": [
    {
     "name": "stdout",
     "output_type": "stream",
     "text": [
      "PipelineManager with 1 Pipelines\n",
      "Representing Pipeline (index: 0)\n",
      "start -> mean_value_imputation_0\n",
      "mean_value_imputation_0 -> soft_ipod_0(param:0.02)\n",
      "soft_ipod_0(param:0.02) -> outlier_removal_0\n",
      "outlier_removal_0 -> marginal_screening_0(param:5)\n",
      "marginal_screening_0(param:5) -> feature_extraction_0\n",
      "feature_extraction_0 -> lasso_0(param:0.08)\n",
      "feature_extraction_0 -> stepwise_feature_selection_0(param:3)\n",
      "stepwise_feature_selection_0(param:3) -> union_features_0\n",
      "lasso_0(param:0.08) -> union_features_0\n",
      "union_features_0 -> end\n",
      "\n",
      "PipelineManager with 1 Pipelines\n",
      "Representing Pipeline (index: 0)\n",
      "start -> definite_regression_imputation_1\n",
      "definite_regression_imputation_1 -> marginal_screening_1(param:5)\n",
      "marginal_screening_1(param:5) -> feature_extraction_1\n",
      "feature_extraction_1 -> cook_distance_0(param:3.0)\n",
      "cook_distance_0(param:3.0) -> outlier_removal_1\n",
      "outlier_removal_1 -> lasso_1(param:0.08)\n",
      "outlier_removal_1 -> stepwise_feature_selection_1(param:3)\n",
      "stepwise_feature_selection_1(param:3) -> intersection_features_0\n",
      "lasso_1(param:0.08) -> intersection_features_0\n",
      "intersection_features_0 -> end\n"
     ]
    }
   ],
   "source": [
    "# example of printing the pipeline manager with only one pipeline\n",
    "\n",
    "manager = option1()\n",
    "print(manager)\n",
    "print()\n",
    "\n",
    "manager = option2()\n",
    "print(manager)"
   ]
  },
  {
   "cell_type": "code",
   "execution_count": 4,
   "metadata": {},
   "outputs": [
    {
     "name": "stdout",
     "output_type": "stream",
     "text": [
      "selected features: [0, 2]\n",
      "detected outliers: [19, 25, 48, 59, 64, 74, 77, 90, 94, 95]\n",
      "\n",
      "feature:0, p-value:0.139\n",
      "feature:2, p-value:0.358\n"
     ]
    }
   ],
   "source": [
    "# apply the pipeline managed by the option1 pipeline manager on the actual dataset\n",
    "\n",
    "n, d, sigma = 100, 10, 1.0\n",
    "\n",
    "rng = np.random.default_rng(0)\n",
    "X, y = rng.normal(size=(n, d)), rng.normal(size=n)\n",
    "nan_mask = rng.choice(n, rng.binomial(n, 0.03), replace=False)\n",
    "y[nan_mask] = np.nan\n",
    "\n",
    "M, O = manager(X, y) # manager is callable\n",
    "print(f\"selected features: {M}\")\n",
    "print(f\"detected outliers: {O}\")\n",
    "print()\n",
    "\n",
    "# inference for the each selected features\n",
    "M, p_list = manager.inference(X, y, sigma)\n",
    "for feature, p_value in zip(M, p_list):\n",
    "    print(f\"feature:{feature}, p-value:{p_value:.3f}\")"
   ]
  },
  {
   "cell_type": "code",
   "execution_count": 5,
   "metadata": {},
   "outputs": [],
   "source": [
    "# define the pipeline manager with multiple pipelines\n",
    "\n",
    "def option1_multi() -> PipelineManager:\n",
    "    X, y = initialize_dataset()\n",
    "    y = mean_value_imputation(X, y)\n",
    "\n",
    "    O = soft_ipod(X, y, [0.02, 0.018])\n",
    "    X, y = remove_outliers(X, y, O)\n",
    "\n",
    "    M = marginal_screening(X, y, [3, 5])\n",
    "    X = extract_features(X, M)\n",
    "\n",
    "    M1 = stepwise_feature_selection(X, y, [2, 3])\n",
    "    M2 = lasso(X, y, [0.08, 0.12])\n",
    "    M = union(M1, M2)\n",
    "    return construct_pipelines(output=M)\n",
    "\n",
    "\n",
    "def option2_multi() -> PipelineManager:\n",
    "    X, y = initialize_dataset()\n",
    "    y = definite_regression_imputation(X, y)\n",
    "\n",
    "    M = marginal_screening(X, y, [3, 5])\n",
    "    X = extract_features(X, M)\n",
    "\n",
    "    O = cook_distance(X, y, [2.0, 3.0])\n",
    "    X, y = remove_outliers(X, y, O)\n",
    "\n",
    "    M1 = stepwise_feature_selection(X, y, [2, 3])\n",
    "    M2 = lasso(X, y, [0.08, 0.12])\n",
    "    M = intersection(M1, M2)\n",
    "    return construct_pipelines(output=M)\n"
   ]
  },
  {
   "cell_type": "code",
   "execution_count": 6,
   "metadata": {},
   "outputs": [
    {
     "name": "stdout",
     "output_type": "stream",
     "text": [
      "PipelineManager with 16 Pipelines\n",
      "Representing Pipeline (index: 0)\n",
      "start -> mean_value_imputation_2\n",
      "mean_value_imputation_2 -> soft_ipod_1(param:0.02)\n",
      "soft_ipod_1(param:0.02) -> outlier_removal_2\n",
      "outlier_removal_2 -> marginal_screening_2(param:3)\n",
      "marginal_screening_2(param:3) -> feature_extraction_2\n",
      "feature_extraction_2 -> stepwise_feature_selection_2(param:2)\n",
      "feature_extraction_2 -> lasso_2(param:0.08)\n",
      "stepwise_feature_selection_2(param:2) -> union_features_1\n",
      "lasso_2(param:0.08) -> union_features_1\n",
      "union_features_1 -> end\n",
      "\n",
      "\n",
      "PipelineManager with 16 Pipelines\n",
      "Representing Pipeline (index: 0)\n",
      "start -> definite_regression_imputation_3\n",
      "definite_regression_imputation_3 -> marginal_screening_3(param:3)\n",
      "marginal_screening_3(param:3) -> feature_extraction_3\n",
      "feature_extraction_3 -> cook_distance_1(param:2.0)\n",
      "cook_distance_1(param:2.0) -> outlier_removal_3\n",
      "outlier_removal_3 -> stepwise_feature_selection_3(param:2)\n",
      "outlier_removal_3 -> lasso_3(param:0.08)\n",
      "stepwise_feature_selection_3(param:2) -> intersection_features_1\n",
      "lasso_3(param:0.08) -> intersection_features_1\n",
      "intersection_features_1 -> end\n"
     ]
    }
   ],
   "source": [
    "# example of printing the pipeline manager with multiple pipelines\n",
    "\n",
    "manager_op1_mul = option1_multi()\n",
    "print(manager_op1_mul)\n",
    "print()\n",
    "print()\n",
    "\n",
    "manager_op2_mul = option2_multi()\n",
    "print(manager_op2_mul)\n"
   ]
  },
  {
   "cell_type": "code",
   "execution_count": 7,
   "metadata": {},
   "outputs": [
    {
     "name": "stdout",
     "output_type": "stream",
     "text": [
      "PipelineManager with 16 Pipelines\n",
      "Representing Pipeline (index: 1)\n",
      "start -> mean_value_imputation_2\n",
      "mean_value_imputation_2 -> soft_ipod_1(param:0.02)\n",
      "soft_ipod_1(param:0.02) -> outlier_removal_2\n",
      "outlier_removal_2 -> marginal_screening_2(param:3)\n",
      "marginal_screening_2(param:3) -> feature_extraction_2\n",
      "feature_extraction_2 -> stepwise_feature_selection_2(param:2)\n",
      "feature_extraction_2 -> lasso_2(param:0.12)\n",
      "stepwise_feature_selection_2(param:2) -> union_features_1\n",
      "lasso_2(param:0.12) -> union_features_1\n",
      "union_features_1 -> end\n",
      "\n",
      "selected features: [0, 2, 9]\n",
      "detected outliers: [45, 51, 59, 77, 94]\n",
      "\n",
      "feature:0, p-value:0.741\n",
      "feature:2, p-value:0.462\n",
      "feature:9, p-value:0.229\n"
     ]
    }
   ],
   "source": [
    "# pipeline manager can select the best pipeline using the cross-validation\n",
    "manager_op1_mul.tune(X, y, num_folds=2)\n",
    "\n",
    "# print the best pipeline (note that index is changed)\n",
    "print(manager_op1_mul)\n",
    "print()\n",
    "\n",
    "# after tuning, when called the pipeline manager, the best pipeline is applied\n",
    "M, O = manager_op1_mul(X, y)\n",
    "print(f\"selected features: {M}\")\n",
    "print(f\"detected outliers: {O}\")\n",
    "print()\n",
    "\n",
    "# inference for the each selected features considering the cross-validation process\n",
    "M, p_list = manager_op1_mul.inference(X, y, sigma)\n",
    "for feature, p_value in zip(M, p_list):\n",
    "    print(f\"feature:{feature}, p-value:{p_value:.3f}\")"
   ]
  },
  {
   "cell_type": "code",
   "execution_count": 8,
   "metadata": {},
   "outputs": [
    {
     "name": "stdout",
     "output_type": "stream",
     "text": [
      "PipelineManager with 32 Pipelines\n",
      "Representing Pipeline (index: 0)\n",
      "start -> mean_value_imputation_2\n",
      "mean_value_imputation_2 -> soft_ipod_1(param:0.02)\n",
      "soft_ipod_1(param:0.02) -> outlier_removal_2\n",
      "outlier_removal_2 -> marginal_screening_2(param:3)\n",
      "marginal_screening_2(param:3) -> feature_extraction_2\n",
      "feature_extraction_2 -> stepwise_feature_selection_2(param:2)\n",
      "feature_extraction_2 -> lasso_2(param:0.08)\n",
      "stepwise_feature_selection_2(param:2) -> union_features_1\n",
      "lasso_2(param:0.08) -> union_features_1\n",
      "union_features_1 -> end\n",
      "\n",
      "Tuned Index: 18 (previously 0)\n",
      "\n",
      "selected features: [0, 1, 2]\n",
      "detected outliers: [19, 22, 29, 36, 46, 48, 59, 74, 77, 78, 90, 94, 95]\n",
      "\n",
      "feature:0, p-value:0.563\n",
      "feature:1, p-value:0.943\n",
      "feature:2, p-value:0.671\n"
     ]
    }
   ],
   "source": [
    "# multiple pipeline managers can be concatenated into one pipeline manager\n",
    "manager = manager_op1_mul | manager_op2_mul\n",
    "\n",
    "# print the concatenated manager, number of pipelines is 32 (=16 + 16)\n",
    "print(manager)\n",
    "print()\n",
    "\n",
    "# concatenated manager is also pipeline manager, so it can also be tuned\n",
    "manager.tune(X, y, num_folds=2)\n",
    "print(f\"Tuned Index: {manager.representeing_index} (previously 0)\")\n",
    "print()\n",
    "\n",
    "# of course, the concatenated manager can also be called\n",
    "M, O = manager(X, y)\n",
    "print(f\"selected features: {M}\")\n",
    "print(f\"detected outliers: {O}\")\n",
    "print()\n",
    "\n",
    "# inference for the each selected features considering the cross-validation process\n",
    "M, p_list = manager.inference(X, y, sigma)\n",
    "for feature, p_value in zip(M, p_list):\n",
    "    print(f\"feature:{feature}, p-value:{p_value:.3f}\")\n"
   ]
  }
 ],
 "metadata": {
  "kernelspec": {
   "display_name": ".venv",
   "language": "python",
   "name": "python3"
  },
  "language_info": {
   "codemirror_mode": {
    "name": "ipython",
    "version": 3
   },
   "file_extension": ".py",
   "mimetype": "text/x-python",
   "name": "python",
   "nbconvert_exporter": "python",
   "pygments_lexer": "ipython3",
   "version": "3.12.5"
  }
 },
 "nbformat": 4,
 "nbformat_minor": 2
}
