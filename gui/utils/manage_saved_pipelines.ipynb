{
 "cells": [
  {
   "cell_type": "code",
   "execution_count": 1,
   "metadata": {},
   "outputs": [],
   "source": [
    "import pickle\n",
    "\n",
    "class ManagePipelines():\n",
    "    \n",
    "    def __init__(self, shemas_file='schemas.barfi'):\n",
    "        self.shemas_file = shemas_file\n",
    "        with open(self.shemas_file, 'rb') as handle_read:\n",
    "            schemas = pickle.load(handle_read)\n",
    "        self.schemas = schemas\n",
    "\n",
    "\n",
    "    def list(self):\n",
    "        try:\n",
    "            with open(self.shemas_file, 'rb') as handle_read:\n",
    "                schemas = pickle.load(handle_read)\n",
    "        except FileNotFoundError:\n",
    "            schemas = {}\n",
    "        for schema_name in schemas:\n",
    "            print(schema_name)\n",
    "\n",
    "    def delete(self, pipeline_name):\n",
    "        schema_name = pipeline_name\n",
    "        try:\n",
    "            with open(self.shemas_file, 'rb') as handle_read:\n",
    "                schemas = pickle.load(handle_read)\n",
    "        except FileNotFoundError:\n",
    "            schemas = {}\n",
    "        if schema_name in schemas:\n",
    "            del schemas[schema_name]\n",
    "        else:\n",
    "            raise ValueError(\n",
    "                f'Pipeline :{schema_name}: not found in the saved pipelines')\n",
    "\n",
    "        with open(self.shemas_file, 'wb') as handle_write:\n",
    "            pickle.dump(schemas, handle_write, protocol=pickle.HIGHEST_PROTOCOL)\n",
    "\n",
    "    def change_name(self, before_name, after_name):\n",
    "        try:\n",
    "            with open(self.shemas_file, 'rb') as handle_read:\n",
    "                schemas = pickle.load(handle_read)\n",
    "        except FileNotFoundError:\n",
    "            schemas = {}\n",
    "\n",
    "        if before_name in schemas:\n",
    "            schemas[after_name] = schemas[before_name]\n",
    "            del schemas[before_name]\n",
    "        else:\n",
    "            raise ValueError(\n",
    "                f'Pipeline :{before_name}: not found in the saved pipelines')\n",
    "\n",
    "        with open(self.shemas_file, 'wb') as handle_write:\n",
    "            pickle.dump(schemas, handle_write, protocol=pickle.HIGHEST_PROTOCOL)\n",
    "\n",
    "    def change_parameter(self, before_name, after_name):\n",
    "        try:\n",
    "            with open(self.shemas_file, 'rb') as handle_read:\n",
    "                schemas = pickle.load(handle_read)\n",
    "        except FileNotFoundError:\n",
    "            schemas = {}\n",
    "\n",
    "        if before_name in schemas:\n",
    "            schemas[after_name] = schemas[before_name]\n",
    "            del schemas[before_name]\n",
    "        else:\n",
    "            raise ValueError(\n",
    "                f'Pipeline :{before_name}: not found in the saved pipelines')\n",
    "\n",
    "        with open(self.shemas_file, 'wb') as handle_write:\n",
    "            pickle.dump(schemas, handle_write, protocol=pickle.HIGHEST_PROTOCOL)"
   ]
  },
  {
   "cell_type": "code",
   "execution_count": 2,
   "metadata": {},
   "outputs": [
    {
     "name": "stdout",
     "output_type": "stream",
     "text": [
      "default (op1)\n",
      "default (op1 minus)\n",
      "cross validation (op1)\n",
      "cross validation (op2)\n",
      "multi-pipeline\n"
     ]
    }
   ],
   "source": [
    "mp=ManagePipelines(\"./schemas.barfi\")\n",
    "\n",
    "# show list of saved pipeline\n",
    "mp.list()"
   ]
  },
  {
   "cell_type": "code",
   "execution_count": null,
   "metadata": {},
   "outputs": [],
   "source": [
    "# # delete saved pipeline\n",
    "# mp.delete(\"pipeline_name\")\n",
    "\n",
    "# # change name of saved pipeline\n",
    "# mp.change_name(before_name=\"before\", after_name=\"after\")"
   ]
  }
 ],
 "metadata": {
  "kernelspec": {
   "display_name": "Python 3",
   "language": "python",
   "name": "python3"
  },
  "language_info": {
   "codemirror_mode": {
    "name": "ipython",
    "version": 3
   },
   "file_extension": ".py",
   "mimetype": "text/x-python",
   "name": "python",
   "nbconvert_exporter": "python",
   "pygments_lexer": "ipython3",
   "version": "3.12.1"
  }
 },
 "nbformat": 4,
 "nbformat_minor": 2
}
