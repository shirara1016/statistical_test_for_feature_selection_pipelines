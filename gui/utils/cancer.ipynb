{
 "cells": [
  {
   "cell_type": "code",
   "execution_count": 4,
   "metadata": {},
   "outputs": [],
   "source": [
    "import pandas as pd\n",
    "import numpy as np\n",
    "from sklearn.preprocessing import StandardScaler"
   ]
  },
  {
   "cell_type": "code",
   "execution_count": null,
   "metadata": {},
   "outputs": [],
   "source": [
    "\n",
    "df = pd.read_csv(\"cancer.tsv\", sep=\"\\t\")\n",
    "df = df.drop([\"Unnamed: 0\", \"train\"], axis=1)\n",
    "df = pd.DataFrame(StandardScaler().fit_transform(df), columns=df.columns)\n",
    "df.to_csv(\"./cancer.csv\", index=False, float_format='%.6f')\n"
   ]
  },
  {
   "cell_type": "code",
   "execution_count": null,
   "metadata": {},
   "outputs": [],
   "source": [
    "df = pd.read_csv(\"cancer.tsv\", sep=\"\\t\")\n",
    "print(df.shape)\n",
    "y = df[\"lpsa\"]\n",
    "X = df.drop([\"lpsa\", \"Unnamed: 0\", \"train\"], axis=1)\n",
    "print(labels := X.columns)\n",
    "X = X.values\n",
    "\n",
    "print(y.shape, X.shape)\n",
    "X = (X - np.mean(X, axis=0)) / np.std(X, axis=0)\n",
    "print(X.shape)\n",
    "\n",
    "y = (y - np.mean(y)) / np.std(y)\n",
    "\n",
    "\n",
    "import pickle\n",
    "with open(\"./prostate_cancer.pkl\", 'wb') as f:\n",
    "    pickle.dump((X, y), f)"
   ]
  }
 ],
 "metadata": {
  "kernelspec": {
   "display_name": "Python 3",
   "language": "python",
   "name": "python3"
  },
  "language_info": {
   "codemirror_mode": {
    "name": "ipython",
    "version": 3
   },
   "file_extension": ".py",
   "mimetype": "text/x-python",
   "name": "python",
   "nbconvert_exporter": "python",
   "pygments_lexer": "ipython3",
   "version": "3.12.1"
  }
 },
 "nbformat": 4,
 "nbformat_minor": 2
}
